{
 "cells": [
  {
   "cell_type": "code",
   "execution_count": null,
   "metadata": {},
   "outputs": [],
   "source": [
    "import urllib\n",
    "from selenium import webdriver\n",
    "import urllib.request\n",
    "\n",
    "\n",
    "import time\n",
    "import re\n",
    "import urllib\n",
    "from selenium.webdriver.common.keys import Keys\n",
    "\n",
    "driver = webdriver.Chrome(executable_path=\"/Users/kuoenjui/Desktop/ta grading/chromedriver\")\n",
    "driver.get('https://javfor.me/video/128699/MXGS-993.html')  ## the video url you want to download\n",
    "\n",
    "\n",
    "html=driver.page_source\n",
    "start=html.find('preload=\"metadata\" src=\"') \n",
    "en=html.find('\"></video></div><div class=\"jw-preview jw-reset\" style=\"background-image:')\n",
    "html[start+len('preload=\"metadata\" src=\"'): en].replace('amp;','')\n",
    "driver.get(html[start+len('preload=\"metadata\" src=\"'): en].replace('amp;',''))\n",
    "\n"
   ]
  },
  {
   "cell_type": "code",
   "execution_count": 22,
   "metadata": {},
   "outputs": [],
   "source": [
    "urllib.request.urlretrieve(b, 'videoname.mp4')"
   ]
  },
  {
   "cell_type": "code",
   "execution_count": 19,
   "metadata": {},
   "outputs": [],
   "source": []
  }
 ],
 "metadata": {
  "kernelspec": {
   "display_name": "Python 3",
   "language": "python",
   "name": "python3"
  },
  "language_info": {
   "codemirror_mode": {
    "name": "ipython",
    "version": 3
   },
   "file_extension": ".py",
   "mimetype": "text/x-python",
   "name": "python",
   "nbconvert_exporter": "python",
   "pygments_lexer": "ipython3",
   "version": "3.5.6"
  }
 },
 "nbformat": 4,
 "nbformat_minor": 2
}
