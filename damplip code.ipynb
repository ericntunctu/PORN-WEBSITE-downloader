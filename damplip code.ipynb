{
 "cells": [
  {
   "cell_type": "code",
   "execution_count": 52,
   "metadata": {},
   "outputs": [
    {
     "data": {
      "text/plain": [
       "('video.mp4', <http.client.HTTPMessage at 0x1f15c1cc2e8>)"
      ]
     },
     "execution_count": 52,
     "metadata": {},
     "output_type": "execute_result"
    }
   ],
   "source": [
    "import time\n",
    "import urllib\n",
    "\n",
    "from selenium import webdriver\n",
    "from selenium.webdriver.common.keys import Keys\n",
    "import requests\n",
    "from bs4 import BeautifulSoup as BS\n",
    "html = \"\"\"<script> ... </script>\"\"\"\n",
    "bs = BS(html)\n",
    "url = '''http://www.damplips.com/p/34361/'''   ## choose the video in that page you want (only one in that page, otherwise it will download the first one)\n",
    "\n",
    "\n",
    "txt = bs.script.get_text()\n",
    "res= requests.get(url)\n",
    "soup=BeautifulSoup(res.text)\n",
    "soup.find_all('source')\n",
    "\n",
    "## catch the source file for you \n",
    "\n",
    "\n",
    "driver = webdriver.Chrome(executable_path=\"xxxx\")  ## you need to put the webdriver location , for example\" chrome driver\" .\n",
    "driver.get(url)\n",
    "a=driver.page_source\n",
    "u='type=\"video/mp4\"'\n",
    "k1=a.find('source src=\"http://dm.damcdn.net')\n",
    "k2=a.find(u)\n",
    "b=a[k1+12:k2-2].replace(' ','')\n",
    "urllib.request.urlretrieve(b, 'video.mp4')"
   ]
  },
  {
   "cell_type": "code",
   "execution_count": null,
   "metadata": {},
   "outputs": [],
   "source": []
  }
 ],
 "metadata": {
  "kernelspec": {
   "display_name": "Python 3",
   "language": "python",
   "name": "python3"
  },
  "language_info": {
   "codemirror_mode": {
    "name": "ipython",
    "version": 3
   },
   "file_extension": ".py",
   "mimetype": "text/x-python",
   "name": "python",
   "nbconvert_exporter": "python",
   "pygments_lexer": "ipython3",
   "version": "3.5.6"
  }
 },
 "nbformat": 4,
 "nbformat_minor": 2
}
