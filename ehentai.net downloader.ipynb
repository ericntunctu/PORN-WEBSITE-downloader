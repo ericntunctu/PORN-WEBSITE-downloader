{
 "cells": [
  {
   "cell_type": "code",
   "execution_count": 9,
   "metadata": {},
   "outputs": [],
   "source": [
    "import urllib\n",
    "from selenium import webdriver\n",
    "import urllib.request\n",
    "\n",
    "\n",
    "import time\n",
    "import re\n",
    "import urllib\n",
    "from selenium.webdriver.common.keys import Keys\n",
    "\n",
    "\n",
    "\n",
    "def comicsdownload(url, pages):\n",
    "    driver = webdriver.Chrome(executable_path=\"XXXXX\")  # choose the  webdriver location (chrome or phantomjs)\n",
    "    driver.get(url)                                     # your comics url = 'https://e-hentai.org/g/1218702/6570f61212/'\n",
    "    driver.find_element_by_xpath('//*[@id=\"gdt\"]/div[1]/div/a/img').click()\n",
    "    for i in range(0, pages):\n",
    "        img = driver.find_element_by_xpath('//*[@id=\"img\"]').get_attribute('src')\n",
    "        urllib.request.urlretrieve(img, \"0000000\"+str(i)+\".jpg\")\n",
    "        driver.find_element_by_xpath('//*[@id=\"next\"]/img').click()\n"
   ]
  },
  {
   "cell_type": "code",
   "execution_count": 10,
   "metadata": {},
   "outputs": [],
   "source": [
    "comicsdownload('https://e-hentai.org/g/1218702/6570f61212/', 4)  # it will download for you.\n"
   ]
  },
  {
   "cell_type": "code",
   "execution_count": null,
   "metadata": {},
   "outputs": [],
   "source": []
  }
 ],
 "metadata": {
  "kernelspec": {
   "display_name": "Python 3",
   "language": "python",
   "name": "python3"
  },
  "language_info": {
   "codemirror_mode": {
    "name": "ipython",
    "version": 3
   },
   "file_extension": ".py",
   "mimetype": "text/x-python",
   "name": "python",
   "nbconvert_exporter": "python",
   "pygments_lexer": "ipython3",
   "version": "3.5.6"
  }
 },
 "nbformat": 4,
 "nbformat_minor": 2
}
