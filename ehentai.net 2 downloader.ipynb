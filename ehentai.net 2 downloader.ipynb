{
 "cells": [
  {
   "cell_type": "code",
   "execution_count": 38,
   "metadata": {},
   "outputs": [],
   "source": [
    "import urllib\n",
    "from selenium import webdriver\n",
    "import urllib.request\n",
    "import time\n",
    "import re\n",
    "from selenium.webdriver.common.keys import Keys\n",
    "\n",
    "\n",
    "\n",
    "def comicsdownload(url, pages):  \n",
    "    driver = webdriver.Chrome(executable_path=\"/Users/kuoenjui/Desktop/ta grading/chromedriver\") # choose the  webdriver location (chrome)\n",
    "    driver.get(url)  # comics url\n",
    "    driver.find_element_by_xpath('//*[@id=\"gdt\"]/div[1]/div/a/img').click()  \n",
    "    for i in range(0, pages):  # how many pages\n",
    "        img = driver.find_element_by_xpath('//*[@id=\"img\"]').get_attribute('src')\n",
    "        urllib.request.urlretrieve(img, \"0000000\"+str(i)+\".jpg\")\n",
    "        driver.find_element_by_xpath('//*[@id=\"next\"]/img').click()\n",
    "        time.sleep(0.8)"
   ]
  },
  {
   "cell_type": "code",
   "execution_count": 39,
   "metadata": {},
   "outputs": [],
   "source": [
    "# example\n",
    "comicsdownload('https://e-hentai.org/g/1218702/6570f61212/', 9)\n",
    "\n"
   ]
  },
  {
   "cell_type": "code",
   "execution_count": null,
   "metadata": {},
   "outputs": [],
   "source": []
  }
 ],
 "metadata": {
  "kernelspec": {
   "display_name": "Python 3",
   "language": "python",
   "name": "python3"
  },
  "language_info": {
   "codemirror_mode": {
    "name": "ipython",
    "version": 3
   },
   "file_extension": ".py",
   "mimetype": "text/x-python",
   "name": "python",
   "nbconvert_exporter": "python",
   "pygments_lexer": "ipython3",
   "version": "3.5.6"
  }
 },
 "nbformat": 4,
 "nbformat_minor": 2
}
